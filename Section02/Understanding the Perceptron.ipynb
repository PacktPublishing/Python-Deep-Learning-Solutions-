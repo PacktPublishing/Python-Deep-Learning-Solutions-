{
 "cells": [
  {
   "cell_type": "code",
   "execution_count": 1,
   "metadata": {},
   "outputs": [],
   "source": [
    "import numpy as np \n",
    "from sklearn.model_selection import train_test_split\n",
    "import matplotlib.pyplot as plt\n",
    "# We will be using the Iris Plants Database\n",
    "from sklearn.datasets import load_iris\n",
    "\n",
    "SEED = 2017"
   ]
  },
  {
   "cell_type": "code",
   "execution_count": 2,
   "metadata": {},
   "outputs": [],
   "source": [
    "# The first two classes (Iris-Setosa and Iris-Versicolour) are linear separable\n",
    "iris = load_iris()\n",
    "idxs = np.where(iris.target<2)\n",
    "X = iris.data[idxs]\n",
    "y = iris.target[idxs]"
   ]
  },
  {
   "cell_type": "code",
   "execution_count": 7,
   "metadata": {},
   "outputs": [
    {
     "data": {
      "image/png": "[encoded data removed]",
      "text/plain": [
       "<matplotlib.figure.Figure at 0x7f5adfd11b38>"
      ]
     },
     "metadata": {},
     "output_type": "display_data"
    }
   ],
   "source": [
    "plt.scatter(X[y==0][:,0],X[y==0][:,2], color='green', label='Iris-Setosa')\n",
    "plt.scatter(X[y==1][:,0],X[y==1][:,2], color='red', label='Iris-Versicolour')\n",
    "plt.title('Iris Plants Database')\n",
    "plt.xlabel('sepal length in cm')\n",
    "plt.ylabel('sepal width in cm')\n",
    "plt.legend()\n",
    "plt.show()"
   ]
  },
  {
   "cell_type": "code",
   "execution_count": 8,
   "metadata": {},
   "outputs": [],
   "source": [
    "X_train, X_val, y_train, y_val = train_test_split(X, y, test_size=0.2, random_state=SEED)"
   ]
  },
  {
   "cell_type": "code",
   "execution_count": 9,
   "metadata": {},
   "outputs": [],
   "source": [
    "weights = np.random.normal(size=X_train.shape[1])\n",
    "bias = 1"
   ]
  },
  {
   "cell_type": "code",
   "execution_count": 10,
   "metadata": {},
   "outputs": [],
   "source": [
    "learning_rate = 0.1\n",
    "n_epochs = 15"
   ]
  },
  {
   "cell_type": "code",
   "execution_count": 11,
   "metadata": {},
   "outputs": [],
   "source": [
    "del_w = np.zeros(weights.shape)\n",
    "hist_loss = []\n",
    "hist_accuracy = []\n",
    "\n",
    "for i in range(n_epochs):\n",
    "    # We apply a simple step function, if the output is > 0.5 we predict 1, else 0\n",
    "    output = np.where((X_train.dot(weights)+bias)>0.5, 1, 0)\n",
    "\n",
    "    # Compute MSE\n",
    "    error = np.mean((y_train-output)**2)\n",
    "\n",
    "    # Update weights and bias\n",
    "    weights-= learning_rate * np.dot((output-y_train), X_train)\n",
    "    bias += learning_rate * np.sum(np.dot((output-y_train), X_train))\n",
    "\n",
    "    # Calculate MSE\n",
    "    loss = np.mean((output - y_train) ** 2)\n",
    "    hist_loss.append(loss)\n",
    "\n",
    "    # Determine validation accuracy\n",
    "    output_val = np.where(X_val.dot(weights)>0.5, 1, 0)\n",
    "    accuracy = np.mean(np.where(y_val==output_val, 1, 0))\n",
    "    hist_accuracy.append(accuracy)"
   ]
  },
  {
   "cell_type": "code",
   "execution_count": 12,
   "metadata": {},
   "outputs": [
    {
     "data": {
      "image/png": "[encoded data removed]",
      "text/plain": [
       "<matplotlib.figure.Figure at 0x7f5adfc52b00>"
      ]
     },
     "metadata": {},
     "output_type": "display_data"
    }
   ],
   "source": [
    "fig = plt.figure(figsize=(8, 4))\n",
    "a = fig.add_subplot(1,2,1)\n",
    "imgplot = plt.plot(hist_loss)\n",
    "plt.xlabel('epochs')\n",
    "a.set_title('Training loss')\n",
    "\n",
    "a=fig.add_subplot(1,2,2)\n",
    "imgplot = plt.plot(hist_accuracy)\n",
    "plt.xlabel('epochs')\n",
    "a.set_title('Validation Accuracy')\n",
    "plt.show()"
   ]
  }
 ],
 "metadata": {
  "kernelspec": {
   "display_name": "Python 3",
   "language": "python",
   "name": "python3"
  },
  "language_info": {
   "codemirror_mode": {
    "name": "ipython",
    "version": 3
   },
   "file_extension": ".py",
   "mimetype": "text/x-python",
   "name": "python",
   "nbconvert_exporter": "python",
   "pygments_lexer": "ipython3",
   "version": "3.5.2"
  },
  "widgets": {
   "state": {},
   "version": "1.1.2"
  }
 },
 "nbformat": 4,
 "nbformat_minor": 2
}
