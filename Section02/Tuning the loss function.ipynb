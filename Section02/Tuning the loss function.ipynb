{
 "cells": [
  {
   "cell_type": "code",
   "execution_count": 1,
   "metadata": {},
   "outputs": [
    {
     "name": "stderr",
     "output_type": "stream",
     "text": [
      "Using TensorFlow backend.\n"
     ]
    }
   ],
   "source": [
    "import numpy as np\n",
    "from matplotlib import pyplot as plt\n",
    "from sklearn.metrics import confusion_matrix\n",
    "\n",
    "from keras.datasets import mnist\n",
    "from keras.models import Sequential\n",
    "from keras.layers import Dense, Dropout\n",
    "from keras.optimizers import Adam\n",
    "from keras.callbacks import EarlyStopping"
   ]
  },
  {
   "cell_type": "code",
   "execution_count": 2,
   "metadata": {},
   "outputs": [],
   "source": [
    "(X_train, y_train), (X_test, y_test) = mnist.load_data()\n",
    "# Extract all 9s and 100 examples of 4s\n",
    "y_train_9 = y_train[y_train == 9]\n",
    "y_train_4 = y_train[y_train == 4][:100]\n",
    "X_train_9 = X_train[y_train == 9]\n",
    "X_train_4 = X_train[y_train == 4][:100]\n",
    "X_train = np.concatenate((X_train_9, X_train_4), axis=0)\n",
    "y_train = np.concatenate((y_train_9, y_train_4), axis=0)\n",
    "\n",
    "y_test_9 = y_test[y_test == 9]\n",
    "y_test_4 = y_test[y_test == 4]\n",
    "X_test_9 = X_test[y_test == 9]\n",
    "X_test_4 = X_test[y_test == 4]\n",
    "X_test = np.concatenate((X_test_9, X_test_4), axis=0)\n",
    "y_test = np.concatenate((y_test_9, y_test_4), axis=0)"
   ]
  },
  {
   "cell_type": "code",
   "execution_count": 3,
   "metadata": {},
   "outputs": [],
   "source": [
    "X_train = X_train.astype('float32')/255.\n",
    "X_test = X_test.astype('float32')/255.\n",
    "X_train = X_train.reshape(len(X_train), np.prod(X_train.shape[1:]))\n",
    "X_test = X_test.reshape(len(X_test), np.prod(X_test.shape[1:]))"
   ]
  },
  {
   "cell_type": "code",
   "execution_count": 4,
   "metadata": {},
   "outputs": [
    {
     "data": {
      "text/plain": [
       "(1991, 784)"
      ]
     },
     "execution_count": 4,
     "metadata": {},
     "output_type": "execute_result"
    }
   ],
   "source": [
    "X_test.shape"
   ]
  },
  {
   "cell_type": "code",
   "execution_count": 5,
   "metadata": {},
   "outputs": [
    {
     "name": "stdout",
     "output_type": "stream",
     "text": [
      "(array([False,  True], dtype=bool), array([ 100, 5949]))\n"
     ]
    }
   ],
   "source": [
    "y_train_binary = y_train == 9\n",
    "y_test_binary = y_test == 9\n",
    "print(np.unique(y_train_binary, return_counts=True))"
   ]
  },
  {
   "cell_type": "code",
   "execution_count": 6,
   "metadata": {},
   "outputs": [],
   "source": [
    "model = Sequential()\n",
    "model.add(Dense(512, input_dim=X_train.shape[1], activation='relu'))\n",
    "model.add(Dropout(0.75))\n",
    "model.add(Dense(512, activation='relu'))\n",
    "model.add(Dropout(0.75))\n",
    "model.add(Dense(128, activation='relu'))\n",
    "model.add(Dropout(0.75))\n",
    "model.add(Dense(128, activation='relu'))\n",
    "model.add(Dense(1, activation='sigmoid'))\n",
    "\n",
    "opt = Adam()\n",
    "\n",
    "model.compile(loss='binary_crossentropy', optimizer=opt, metrics=['binary_accuracy'])"
   ]
  },
  {
   "cell_type": "code",
   "execution_count": 7,
   "metadata": {},
   "outputs": [],
   "source": [
    "callbacks = [EarlyStopping(monitor='val_loss', patience=5)]"
   ]
  },
  {
   "cell_type": "code",
   "execution_count": 8,
   "metadata": {},
   "outputs": [],
   "source": [
    "class_weight_equal = {False : 1., True: 1}\n",
    "class_weight_imbalanced = {False : 100, True: 1}"
   ]
  },
  {
   "cell_type": "code",
   "execution_count": 9,
   "metadata": {},
   "outputs": [
    {
     "data": {
      "text/plain": [
       "<keras.callbacks.History at 0x7f223356a908>"
      ]
     },
     "execution_count": 9,
     "metadata": {},
     "output_type": "execute_result"
    }
   ],
   "source": [
    "n_epochs = 1000\n",
    "batch_size = 512\n",
    "validation_split = 0.01\n",
    "\n",
    "model.fit(X_train, y_train_binary, epochs=n_epochs, \n",
    "batch_size=batch_size, shuffle=True, validation_split=validation_split, class_weight=class_weight_equal,\n",
    "          callbacks=callbacks, verbose=0\n",
    ")"
   ]
  },
  {
   "cell_type": "code",
   "execution_count": 10,
   "metadata": {},
   "outputs": [
    {
     "data": {
      "text/plain": [
       "array([[1009,    0],\n",
       "       [ 982,    0]])"
      ]
     },
     "execution_count": 10,
     "metadata": {},
     "output_type": "execute_result"
    }
   ],
   "source": [
    "preds_equal = model.predict(X_test)\n",
    "confusion_matrix(y_test_binary, np.round(preds_equal), labels=[True, False])\n",
    "\n",
    "#array([[1009,    0],\n",
    "#       [ 982,  0]])"
   ]
  },
  {
   "cell_type": "code",
   "execution_count": 11,
   "metadata": {},
   "outputs": [
    {
     "data": {
      "text/plain": [
       "array([[1009,    0],\n",
       "       [ 508,  474]])"
      ]
     },
     "execution_count": 11,
     "metadata": {},
     "output_type": "execute_result"
    }
   ],
   "source": [
    "model.compile(loss='binary_crossentropy', optimizer='rmsprop', metrics=['binary_accuracy'])\n",
    "\n",
    "model.fit(X_train, y_train_binary, epochs=n_epochs, \n",
    "          batch_size=batch_size, shuffle=True, validation_split=validation_split, class_weight=class_weight_imbalanced,\n",
    "          callbacks=callbacks, verbose=0\n",
    "         )\n",
    "\n",
    "preds_imbalanced = model.predict(X_test)\n",
    "confusion_matrix(y_test_binary, np.round(preds_imbalanced), labels=[True, False])\n",
    "\n",
    "#array([[1009,    3],\n",
    "#   [  546,  436]])"
   ]
  }
 ],
 "metadata": {
  "kernelspec": {
   "display_name": "Python 3",
   "language": "python",
   "name": "python3"
  },
  "language_info": {
   "codemirror_mode": {
    "name": "ipython",
    "version": 3
   },
   "file_extension": ".py",
   "mimetype": "text/x-python",
   "name": "python",
   "nbconvert_exporter": "python",
   "pygments_lexer": "ipython3",
   "version": "3.5.2"
  },
  "widgets": {
   "state": {},
   "version": "1.1.2"
  }
 },
 "nbformat": 4,
 "nbformat_minor": 2
}
