{
 "cells": [
  {
   "cell_type": "code",
   "execution_count": 1,
   "metadata": {},
   "outputs": [
    {
     "name": "stderr",
     "output_type": "stream",
     "text": [
      "Using TensorFlow backend.\n"
     ]
    }
   ],
   "source": [
    "import numpy as np\n",
    "import pandas as pd\n",
    "from sklearn.preprocessing import LabelEncoder\n",
    "\n",
    "from keras.models import Sequential\n",
    "from keras.layers import Dense\n",
    "from keras.callbacks import EarlyStopping"
   ]
  },
  {
   "cell_type": "code",
   "execution_count": 2,
   "metadata": {},
   "outputs": [],
   "source": [
    "# Data can be downloaded at https://archive.ics.uci.edu/ml/machine-learning-databases/undocumented/connectionist-bench/sonar/"
   ]
  },
  {
   "cell_type": "code",
   "execution_count": 3,
   "metadata": {},
   "outputs": [],
   "source": [
    "dataframe = pd.read_csv(\"Data/sonar.all-data\", header=None)\n",
    "data = dataframe.values"
   ]
  },
  {
   "cell_type": "code",
   "execution_count": 4,
   "metadata": {},
   "outputs": [],
   "source": [
    "X = data[:,0:60].astype(float)\n",
    "y = data[:,60]"
   ]
  },
  {
   "cell_type": "code",
   "execution_count": 5,
   "metadata": {},
   "outputs": [],
   "source": [
    "encoder = LabelEncoder()\n",
    "encoder.fit(y)\n",
    "y = encoder.transform(y)"
   ]
  },
  {
   "cell_type": "code",
   "execution_count": 6,
   "metadata": {},
   "outputs": [],
   "source": [
    "model = Sequential()\n",
    "model.add(Dense(32, input_dim=60, activation='relu'))\n",
    "model.add(Dense(1, activation='sigmoid'))\n",
    "model.compile(loss='binary_crossentropy', optimizer='adam', metrics=['accuracy'])"
   ]
  },
  {
   "cell_type": "code",
   "execution_count": 7,
   "metadata": {},
   "outputs": [],
   "source": [
    "callbacks = [EarlyStopping(monitor='val_acc', patience=20)]"
   ]
  },
  {
   "cell_type": "code",
   "execution_count": 8,
   "metadata": {},
   "outputs": [
    {
     "name": "stdout",
     "output_type": "stream",
     "text": [
      "Train on 187 samples, validate on 21 samples\n",
      "Epoch 1/1000\n",
      "187/187 [==============================] - 0s 2ms/step - loss: 0.6990 - acc: 0.5241 - val_loss: 0.6008 - val_acc: 1.0000\n",
      "Epoch 2/1000\n",
      "187/187 [==============================] - 0s 519us/step - loss: 0.6642 - acc: 0.6150 - val_loss: 0.6732 - val_acc: 0.6190\n",
      "Epoch 3/1000\n",
      "187/187 [==============================] - 0s 465us/step - loss: 0.6282 - acc: 0.7540 - val_loss: 0.7238 - val_acc: 0.4762\n",
      "Epoch 4/1000\n",
      "187/187 [==============================] - 0s 465us/step - loss: 0.6004 - acc: 0.7112 - val_loss: 0.6826 - val_acc: 0.4762\n",
      "Epoch 5/1000\n",
      "187/187 [==============================] - 0s 497us/step - loss: 0.5759 - acc: 0.7219 - val_loss: 0.6615 - val_acc: 0.5238\n",
      "Epoch 6/1000\n",
      "187/187 [==============================] - 0s 433us/step - loss: 0.5485 - acc: 0.7540 - val_loss: 0.7038 - val_acc: 0.4762\n",
      "Epoch 7/1000\n",
      "187/187 [==============================] - 0s 476us/step - loss: 0.5312 - acc: 0.7647 - val_loss: 0.8043 - val_acc: 0.3333\n",
      "Epoch 8/1000\n",
      "187/187 [==============================] - 0s 460us/step - loss: 0.5211 - acc: 0.7487 - val_loss: 0.7410 - val_acc: 0.4286\n",
      "Epoch 9/1000\n",
      "187/187 [==============================] - 0s 460us/step - loss: 0.5010 - acc: 0.7594 - val_loss: 0.7809 - val_acc: 0.3810\n",
      "Epoch 10/1000\n",
      "187/187 [==============================] - 0s 471us/step - loss: 0.4905 - acc: 0.7487 - val_loss: 0.5959 - val_acc: 0.6190\n",
      "Epoch 11/1000\n",
      "187/187 [==============================] - 0s 455us/step - loss: 0.4725 - acc: 0.8075 - val_loss: 0.8858 - val_acc: 0.3333\n",
      "Epoch 12/1000\n",
      "187/187 [==============================] - 0s 481us/step - loss: 0.4708 - acc: 0.7861 - val_loss: 0.8107 - val_acc: 0.3810\n",
      "Epoch 13/1000\n",
      "187/187 [==============================] - 0s 417us/step - loss: 0.4631 - acc: 0.7754 - val_loss: 0.6211 - val_acc: 0.5238\n",
      "Epoch 14/1000\n",
      "187/187 [==============================] - 0s 444us/step - loss: 0.4590 - acc: 0.7701 - val_loss: 0.6326 - val_acc: 0.4762\n",
      "Epoch 15/1000\n",
      "187/187 [==============================] - 0s 460us/step - loss: 0.4455 - acc: 0.7861 - val_loss: 0.6925 - val_acc: 0.4286\n",
      "Epoch 16/1000\n",
      "187/187 [==============================] - 0s 412us/step - loss: 0.4415 - acc: 0.8021 - val_loss: 0.6167 - val_acc: 0.4762\n",
      "Epoch 17/1000\n",
      "187/187 [==============================] - 0s 471us/step - loss: 0.4436 - acc: 0.7754 - val_loss: 0.5161 - val_acc: 0.7619\n",
      "Epoch 18/1000\n",
      "187/187 [==============================] - 0s 519us/step - loss: 0.4219 - acc: 0.8075 - val_loss: 0.7451 - val_acc: 0.3810\n",
      "Epoch 19/1000\n",
      "187/187 [==============================] - 0s 406us/step - loss: 0.4177 - acc: 0.8021 - val_loss: 0.6622 - val_acc: 0.4762\n",
      "Epoch 20/1000\n",
      "187/187 [==============================] - 0s 444us/step - loss: 0.4197 - acc: 0.7968 - val_loss: 0.5759 - val_acc: 0.6190\n",
      "Epoch 21/1000\n",
      "187/187 [==============================] - 0s 733us/step - loss: 0.4193 - acc: 0.8075 - val_loss: 0.6478 - val_acc: 0.4762\n"
     ]
    },
    {
     "data": {
      "text/plain": [
       "<keras.callbacks.History at 0xc4af5f8>"
      ]
     },
     "execution_count": 8,
     "metadata": {},
     "output_type": "execute_result"
    }
   ],
   "source": [
    "n_epochs = 1000\n",
    "batch_size = 2\n",
    "model.fit(X, y, epochs=n_epochs, batch_size=batch_size, validation_split=0.1, callbacks=callbacks)"
   ]
  }
 ],
 "metadata": {
  "kernelspec": {
   "display_name": "Python 3",
   "language": "python",
   "name": "python3"
  },
  "language_info": {
   "codemirror_mode": {
    "name": "ipython",
    "version": 3
   },
   "file_extension": ".py",
   "mimetype": "text/x-python",
   "name": "python",
   "nbconvert_exporter": "python",
   "pygments_lexer": "ipython3",
   "version": "3.5.0"
  },
  "widgets": {
   "state": {},
   "version": "1.1.2"
  }
 },
 "nbformat": 4,
 "nbformat_minor": 2
}
