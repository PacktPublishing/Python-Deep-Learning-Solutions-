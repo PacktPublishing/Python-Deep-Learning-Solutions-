{
 "cells": [
  {
   "cell_type": "code",
   "execution_count": 1,
   "metadata": {},
   "outputs": [
    {
     "name": "stderr",
     "output_type": "stream",
     "text": [
      "Using TensorFlow backend.\n"
     ]
    }
   ],
   "source": [
    "import numpy as np\n",
    "from matplotlib import pyplot as plt\n",
    "\n",
    "from keras.utils import np_utils\n",
    "from keras.models import Sequential\n",
    "from keras.layers.core import Dense, Dropout, Flatten\n",
    "from keras.callbacks import EarlyStopping, ModelCheckpoint\n",
    "from keras.layers import Conv2D, MaxPooling2D\n",
    "from keras.optimizers import Adam\n",
    "\n",
    "from keras.callbacks import EarlyStopping"
   ]
  },
  {
   "cell_type": "code",
   "execution_count": 2,
   "metadata": {},
   "outputs": [],
   "source": [
    "from keras.datasets import mnist\n",
    "(X_train, y_train), (X_test, y_test) = mnist.load_data()"
   ]
  },
  {
   "cell_type": "code",
   "execution_count": 3,
   "metadata": {},
   "outputs": [],
   "source": [
    "img_rows, img_cols = X_train[0].shape[0], X_train[0].shape[1]\n",
    "X_train = X_train.reshape(X_train.shape[0], img_rows, img_cols, 1)\n",
    "X_test = X_test.reshape(X_test.shape[0], img_rows, img_cols, 1)\n",
    "input_shape = (img_rows, img_cols, 1)"
   ]
  },
  {
   "cell_type": "code",
   "execution_count": 4,
   "metadata": {},
   "outputs": [],
   "source": [
    "X_train = X_train.astype('float32')/255.\n",
    "X_test = X_test.astype('float32')/255."
   ]
  },
  {
   "cell_type": "code",
   "execution_count": 5,
   "metadata": {},
   "outputs": [],
   "source": [
    "n_classes = len(set(y_train))\n",
    "y_train = np_utils.to_categorical(y_train, n_classes)\n",
    "y_test = np_utils.to_categorical(y_test, n_classes)"
   ]
  },
  {
   "cell_type": "code",
   "execution_count": 6,
   "metadata": {},
   "outputs": [
    {
     "name": "stdout",
     "output_type": "stream",
     "text": [
      "_________________________________________________________________\n",
      "Layer (type)                 Output Shape              Param #   \n",
      "=================================================================\n",
      "conv2d_1 (Conv2D)            (None, 26, 26, 64)        640       \n",
      "_________________________________________________________________\n",
      "max_pooling2d_1 (MaxPooling2 (None, 13, 13, 64)        0         \n",
      "_________________________________________________________________\n",
      "conv2d_2 (Conv2D)            (None, 13, 13, 128)       73856     \n",
      "_________________________________________________________________\n",
      "max_pooling2d_2 (MaxPooling2 (None, 6, 6, 128)         0         \n",
      "_________________________________________________________________\n",
      "conv2d_3 (Conv2D)            (None, 6, 6, 256)         295168    \n",
      "_________________________________________________________________\n",
      "max_pooling2d_3 (MaxPooling2 (None, 3, 3, 256)         0         \n",
      "_________________________________________________________________\n",
      "dropout_1 (Dropout)          (None, 3, 3, 256)         0         \n",
      "_________________________________________________________________\n",
      "flatten_1 (Flatten)          (None, 2304)              0         \n",
      "_________________________________________________________________\n",
      "dense_1 (Dense)              (None, 128)               295040    \n",
      "_________________________________________________________________\n",
      "dropout_2 (Dropout)          (None, 128)               0         \n",
      "_________________________________________________________________\n",
      "dense_2 (Dense)              (None, 10)                1290      \n",
      "=================================================================\n",
      "Total params: 665,994\n",
      "Trainable params: 665,994\n",
      "Non-trainable params: 0\n",
      "_________________________________________________________________\n"
     ]
    }
   ],
   "source": [
    "model = Sequential()\n",
    "\n",
    "model.add(Conv2D(64, kernel_size=(3, 3), activation='relu', input_shape=input_shape))\n",
    "model.add(MaxPooling2D(pool_size=(2, 2)))\n",
    "\n",
    "model.add(Conv2D(128, kernel_size=(3, 3), activation='relu', padding='same'))\n",
    "model.add(MaxPooling2D(pool_size=(2, 2)))\n",
    "\n",
    "model.add(Conv2D(256, kernel_size=(3, 3), activation='relu', padding='same'))\n",
    "model.add(MaxPooling2D(pool_size=(2, 2)))\n",
    "\n",
    "model.add(Dropout(0.5))\n",
    "model.add(Flatten())\n",
    "model.add(Dense(128, activation='relu'))\n",
    "model.add(Dropout(0.5))\n",
    "model.add(Dense(n_classes, activation='softmax'))\n",
    "\n",
    "model.compile(loss=['categorical_crossentropy'], optimizer='adam', metrics=['accuracy'])\n",
    "\n",
    "model.summary()"
   ]
  },
  {
   "cell_type": "code",
   "execution_count": 7,
   "metadata": {},
   "outputs": [],
   "source": [
    "callbacks = [EarlyStopping(monitor='val_acc', patience=5)]"
   ]
  },
  {
   "cell_type": "code",
   "execution_count": 8,
   "metadata": {},
   "outputs": [],
   "source": [
    "batch_size = 128\n",
    "n_epochs = 200"
   ]
  },
  {
   "cell_type": "code",
   "execution_count": 9,
   "metadata": {},
   "outputs": [
    {
     "name": "stdout",
     "output_type": "stream",
     "text": [
      "Train on 48000 samples, validate on 12000 samples\n",
      "Epoch 1/200\n",
      "48000/48000 [==============================] - 12s - loss: 0.3129 - acc: 0.8979 - val_loss: 0.0532 - val_acc: 0.9832\n",
      "Epoch 2/200\n",
      "48000/48000 [==============================] - 11s - loss: 0.0834 - acc: 0.9744 - val_loss: 0.0367 - val_acc: 0.9882\n",
      "Epoch 3/200\n",
      "48000/48000 [==============================] - 11s - loss: 0.0640 - acc: 0.9818 - val_loss: 0.0343 - val_acc: 0.9896\n",
      "Epoch 4/200\n",
      "48000/48000 [==============================] - 11s - loss: 0.0494 - acc: 0.9849 - val_loss: 0.0272 - val_acc: 0.9924\n",
      "Epoch 5/200\n",
      "48000/48000 [==============================] - 11s - loss: 0.0418 - acc: 0.9873 - val_loss: 0.0282 - val_acc: 0.9918\n",
      "Epoch 6/200\n",
      "48000/48000 [==============================] - 11s - loss: 0.0365 - acc: 0.9889 - val_loss: 0.0276 - val_acc: 0.9916\n",
      "Epoch 7/200\n",
      "48000/48000 [==============================] - 11s - loss: 0.0319 - acc: 0.9898 - val_loss: 0.0256 - val_acc: 0.9933\n",
      "Epoch 8/200\n",
      "48000/48000 [==============================] - 11s - loss: 0.0287 - acc: 0.9914 - val_loss: 0.0263 - val_acc: 0.9921\n",
      "Epoch 9/200\n",
      "48000/48000 [==============================] - 11s - loss: 0.0275 - acc: 0.9916 - val_loss: 0.0267 - val_acc: 0.9925\n",
      "Epoch 10/200\n",
      "48000/48000 [==============================] - 11s - loss: 0.0238 - acc: 0.9928 - val_loss: 0.0280 - val_acc: 0.9935\n",
      "Epoch 11/200\n",
      "48000/48000 [==============================] - 11s - loss: 0.0208 - acc: 0.9935 - val_loss: 0.0288 - val_acc: 0.9925\n",
      "Epoch 12/200\n",
      "48000/48000 [==============================] - 11s - loss: 0.0196 - acc: 0.9936 - val_loss: 0.0275 - val_acc: 0.9927\n",
      "Epoch 13/200\n",
      "48000/48000 [==============================] - 11s - loss: 0.0200 - acc: 0.9937 - val_loss: 0.0264 - val_acc: 0.9931\n",
      "Epoch 14/200\n",
      "48000/48000 [==============================] - 11s - loss: 0.0173 - acc: 0.9946 - val_loss: 0.0301 - val_acc: 0.9927\n",
      "Epoch 15/200\n",
      "48000/48000 [==============================] - 11s - loss: 0.0165 - acc: 0.9950 - val_loss: 0.0302 - val_acc: 0.9930\n",
      "Epoch 16/200\n",
      "48000/48000 [==============================] - 11s - loss: 0.0140 - acc: 0.9958 - val_loss: 0.0269 - val_acc: 0.9938\n",
      "Epoch 17/200\n",
      "48000/48000 [==============================] - 11s - loss: 0.0139 - acc: 0.9953 - val_loss: 0.0371 - val_acc: 0.9908\n",
      "Epoch 18/200\n",
      "48000/48000 [==============================] - 11s - loss: 0.0147 - acc: 0.9951 - val_loss: 0.0282 - val_acc: 0.9942\n",
      "Epoch 19/200\n",
      "48000/48000 [==============================] - 11s - loss: 0.0121 - acc: 0.9962 - val_loss: 0.0279 - val_acc: 0.9942\n",
      "Epoch 20/200\n",
      "48000/48000 [==============================] - 11s - loss: 0.0136 - acc: 0.9954 - val_loss: 0.0311 - val_acc: 0.9932\n",
      "Epoch 21/200\n",
      "48000/48000 [==============================] - 11s - loss: 0.0128 - acc: 0.9957 - val_loss: 0.0295 - val_acc: 0.9938\n",
      "Epoch 22/200\n",
      "48000/48000 [==============================] - 11s - loss: 0.0124 - acc: 0.9960 - val_loss: 0.0286 - val_acc: 0.9933\n",
      "Epoch 23/200\n",
      "48000/48000 [==============================] - 11s - loss: 0.0109 - acc: 0.9964 - val_loss: 0.0340 - val_acc: 0.9926\n",
      "Epoch 24/200\n",
      "48000/48000 [==============================] - 11s - loss: 0.0111 - acc: 0.9968 - val_loss: 0.0287 - val_acc: 0.9943\n",
      "Epoch 25/200\n",
      "48000/48000 [==============================] - 11s - loss: 0.0075 - acc: 0.9974 - val_loss: 0.0337 - val_acc: 0.9938\n",
      "Epoch 26/200\n",
      "48000/48000 [==============================] - 11s - loss: 0.0078 - acc: 0.9972 - val_loss: 0.0298 - val_acc: 0.9938\n",
      "Epoch 27/200\n",
      "48000/48000 [==============================] - 11s - loss: 0.0088 - acc: 0.9974 - val_loss: 0.0389 - val_acc: 0.9918\n",
      "Epoch 28/200\n",
      "48000/48000 [==============================] - 11s - loss: 0.0094 - acc: 0.9971 - val_loss: 0.0326 - val_acc: 0.9934\n",
      "Epoch 29/200\n",
      "48000/48000 [==============================] - 11s - loss: 0.0092 - acc: 0.9969 - val_loss: 0.0372 - val_acc: 0.9922\n",
      "Epoch 30/200\n",
      "48000/48000 [==============================] - 11s - loss: 0.0076 - acc: 0.9976 - val_loss: 0.0349 - val_acc: 0.9933\n"
     ]
    },
    {
     "data": {
      "text/plain": [
       "<keras.callbacks.History at 0x7fd9402192b0>"
      ]
     },
     "execution_count": 9,
     "metadata": {},
     "output_type": "execute_result"
    }
   ],
   "source": [
    "model.fit(X_train, y_train, batch_size=batch_size, epochs=n_epochs, verbose=1, validation_split=0.2, callbacks=callbacks)"
   ]
  },
  {
   "cell_type": "code",
   "execution_count": 10,
   "metadata": {},
   "outputs": [
    {
     "name": "stdout",
     "output_type": "stream",
     "text": [
      "Test loss: 0.0197916838032\n",
      "Test accuracy: 0.9955\n"
     ]
    }
   ],
   "source": [
    "score = model.evaluate(X_test, y_test, verbose=0)\n",
    "print('Test loss:', score[0])\n",
    "print('Test accuracy:', score[1])"
   ]
  }
 ],
 "metadata": {
  "kernelspec": {
   "display_name": "Python 3",
   "language": "python",
   "name": "python3"
  },
  "language_info": {
   "codemirror_mode": {
    "name": "ipython",
    "version": 3
   },
   "file_extension": ".py",
   "mimetype": "text/x-python",
   "name": "python",
   "nbconvert_exporter": "python",
   "pygments_lexer": "ipython3",
   "version": "3.5.2"
  },
  "widgets": {
   "state": {},
   "version": "1.1.2"
  }
 },
 "nbformat": 4,
 "nbformat_minor": 2
}
