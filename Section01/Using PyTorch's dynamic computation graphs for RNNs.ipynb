{
 "cells": [
  {
   "cell_type": "code",
   "execution_count": 1,
   "metadata": {},
   "outputs": [],
   "source": [
    "import torch"
   ]
  },
  {
   "cell_type": "code",
   "execution_count": 2,
   "metadata": {},
   "outputs": [],
   "source": [
    "batch_size = 32\n",
    "input_shape = 5\n",
    "output_shape = 10"
   ]
  },
  {
   "cell_type": "code",
   "execution_count": 3,
   "metadata": {},
   "outputs": [],
   "source": [
    "torch.set_default_tensor_type('torch.cuda.FloatTensor')"
   ]
  },
  {
   "cell_type": "code",
   "execution_count": 4,
   "metadata": {},
   "outputs": [],
   "source": [
    "from torch.autograd import Variable\n",
    "X = Variable(torch.randn(batch_size, input_shape))\n",
    "y = Variable(torch.randn(batch_size, output_shape), requires_grad=False)"
   ]
  },
  {
   "cell_type": "code",
   "execution_count": 5,
   "metadata": {},
   "outputs": [],
   "source": [
    "model = torch.nn.Sequential(\n",
    " torch.nn.Linear(input_shape, 32),\n",
    " torch.nn.Linear(32, output_shape),\n",
    " ).cuda()"
   ]
  },
  {
   "cell_type": "code",
   "execution_count": 6,
   "metadata": {},
   "outputs": [],
   "source": [
    "loss_function = torch.nn.MSELoss()"
   ]
  },
  {
   "cell_type": "code",
   "execution_count": 7,
   "metadata": {},
   "outputs": [
    {
     "name": "stdout",
     "output_type": "stream",
     "text": [
      "1.0649133920669556\n",
      "1.0644211769104004\n",
      "1.0639302730560303\n",
      "1.0634393692016602\n",
      "1.0629512071609497\n",
      "1.0624619722366333\n",
      "1.061974287033081\n",
      "1.0614871978759766\n",
      "1.0610013008117676\n",
      "1.0605162382125854\n"
     ]
    }
   ],
   "source": [
    "learning_rate = 0.001\n",
    "for i in range(10):\n",
    "    y_pred = model(X)\n",
    "    loss = loss_function(y_pred, y)\n",
    "    print(loss.data[0])\n",
    "    # Zero gradients\n",
    "    model.zero_grad()\n",
    "    loss.backward()\n",
    "    # Update weights\n",
    "    for param in model.parameters():\n",
    "        param.data -= learning_rate * param.grad.data"
   ]
  }
 ],
 "metadata": {
  "kernelspec": {
   "display_name": "Python 3",
   "language": "python",
   "name": "python3"
  },
  "language_info": {
   "codemirror_mode": {
    "name": "ipython",
    "version": 3
   },
   "file_extension": ".py",
   "mimetype": "text/x-python",
   "name": "python",
   "nbconvert_exporter": "python",
   "pygments_lexer": "ipython3",
   "version": "3.5.2"
  },
  "widgets": {
   "state": {},
   "version": "1.1.2"
  }
 },
 "nbformat": 4,
 "nbformat_minor": 2
}
